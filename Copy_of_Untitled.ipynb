{
  "cells": [
    {
      "cell_type": "markdown",
      "metadata": {
        "id": "view-in-github",
        "colab_type": "text"
      },
      "source": [
        "<a href=\"https://colab.research.google.com/github/deveshtripath/Img_Rec/blob/main/Copy_of_Untitled.ipynb\" target=\"_parent\"><img src=\"https://colab.research.google.com/assets/colab-badge.svg\" alt=\"Open In Colab\"/></a>"
      ]
    },
    {
      "cell_type": "code",
      "execution_count": null,
      "metadata": {
        "id": "2a09c599"
      },
      "outputs": [],
      "source": [
        "import math\n",
        "import numpy as np\n",
        "import pandas as pd\n",
        "\n",
        "\n",
        "import seaborn as sns\n",
        "from matplotlib import pyplot\n",
        "\n",
        "from sklearn.model_selection import train_test_split\n",
        "from sklearn.preprocessing import LabelEncoder\n",
        "from sklearn.metrics import classification_report\n",
        "\n",
        "import tensorflow as tf\n",
        "from tensorflow.keras import optimizers\n",
        "from tensorflow.keras.models import Model\n",
        "from tensorflow.keras.layers import Flatten, Dense, Conv2D, GlobalAveragePooling2D\n",
        "from tensorflow.keras.layers import Dropout, BatchNormalization, Activation\n",
        "from tensorflow.keras.callbacks import Callback, EarlyStopping, ReduceLROnPlateau\n",
        "from tensorflow.keras.preprocessing.image import ImageDataGenerator\n",
        "\n",
        "from keras.utils import np_utils"
      ],
      "id": "2a09c599"
    },
    {
      "cell_type": "code",
      "execution_count": null,
      "metadata": {
        "id": "53STTrgvpA-m"
      },
      "outputs": [],
      "source": [
        "from google.colab import drive\n",
        "drive.mount('/content/drive')"
      ],
      "id": "53STTrgvpA-m"
    },
    {
      "cell_type": "code",
      "execution_count": null,
      "metadata": {
        "id": "8lUyc2I_qHmI"
      },
      "outputs": [],
      "source": [
        "%cd drive/MyDrive"
      ],
      "id": "8lUyc2I_qHmI"
    },
    {
      "cell_type": "code",
      "execution_count": null,
      "metadata": {
        "id": "6de94cd2"
      },
      "outputs": [],
      "source": [
        "df = pd.read_csv('/content/drive/MyDrive/fer2013.csv')\n",
        "print(df.shape)\n",
        "df.head()"
      ],
      "id": "6de94cd2"
    },
    {
      "cell_type": "code",
      "execution_count": null,
      "metadata": {
        "id": "qkjL5WERo9gj"
      },
      "outputs": [],
      "source": [],
      "id": "qkjL5WERo9gj"
    },
    {
      "cell_type": "code",
      "execution_count": null,
      "metadata": {
        "id": "c79c48c7"
      },
      "outputs": [],
      "source": [
        "df.emotion.unique()"
      ],
      "id": "c79c48c7"
    },
    {
      "cell_type": "code",
      "execution_count": null,
      "metadata": {
        "id": "17e696c7"
      },
      "outputs": [],
      "source": [
        "emotion_label_to_text = {0:'anger', 1:'disgust', 2:'fear', 3:'happiness', 4: 'sadness', 5: 'surprise', 6: 'neutral'}"
      ],
      "id": "17e696c7"
    },
    {
      "cell_type": "code",
      "execution_count": null,
      "metadata": {
        "id": "ad342269"
      },
      "outputs": [],
      "source": [
        "df.emotion.value_counts()"
      ],
      "id": "ad342269"
    },
    {
      "cell_type": "code",
      "execution_count": null,
      "metadata": {
        "id": "808e2a05"
      },
      "outputs": [],
      "source": [
        "math.sqrt(len(df.pixels[0].split(' ')))"
      ],
      "id": "808e2a05"
    },
    {
      "cell_type": "code",
      "execution_count": null,
      "metadata": {
        "id": "5f1bf047"
      },
      "outputs": [],
      "source": [
        "fig = pyplot.figure(1, (14, 14))\n",
        "\n",
        "k = 0\n",
        "for label in sorted(df.emotion.unique()):\n",
        "    for j in range(7):\n",
        "        px = df[df.emotion==label].pixels.iloc[k]\n",
        "        px = np.array(px.split(' ')).reshape(48, 48).astype('float32')\n",
        "\n",
        "        k += 1\n",
        "        ax = pyplot.subplot(7, 7, k)\n",
        "        ax.imshow(px, cmap='gray')\n",
        "        ax.set_xticks([])\n",
        "        ax.set_yticks([])\n",
        "        ax.set_title(emotion_label_to_text[label])\n",
        "        pyplot.tight_layout()"
      ],
      "id": "5f1bf047"
    },
    {
      "cell_type": "code",
      "execution_count": null,
      "metadata": {
        "id": "3707f512"
      },
      "outputs": [],
      "source": [
        "img_array = df.pixels.apply(lambda x: np.array(x.split(' ')).reshape(48, 48).astype('float32'))\n",
        "img_array = np.stack(img_array, axis=0)"
      ],
      "id": "3707f512"
    },
    {
      "cell_type": "code",
      "execution_count": null,
      "metadata": {
        "id": "72d2d499",
        "scrolled": true
      },
      "outputs": [],
      "source": [
        "# img_array[0][0]"
      ],
      "id": "72d2d499"
    },
    {
      "cell_type": "code",
      "execution_count": null,
      "metadata": {
        "id": "d4365b8b"
      },
      "outputs": [],
      "source": [
        "img_array.shape"
      ],
      "id": "d4365b8b"
    },
    {
      "cell_type": "code",
      "execution_count": null,
      "metadata": {
        "id": "e42fd8bb"
      },
      "outputs": [],
      "source": [
        "import cv2\n",
        "\n",
        "img_features = []\n",
        "\n",
        "for i in range(len(img_array)):\n",
        "    temp = cv2.cvtColor(img_array[i], cv2.COLOR_GRAY2RGB)\n",
        "    img_features.append(temp)\n",
        "\n",
        "img_features = np.array(img_features)\n",
        "print(img_features.shape)"
      ],
      "id": "e42fd8bb"
    },
    {
      "cell_type": "code",
      "execution_count": null,
      "metadata": {
        "id": "ffe83059"
      },
      "outputs": [],
      "source": [
        "# img_features[0][0]"
      ],
      "id": "ffe83059"
    },
    {
      "cell_type": "code",
      "execution_count": null,
      "metadata": {
        "id": "2eb6d1f0"
      },
      "outputs": [],
      "source": [
        "pyplot.imshow(img_features[8].astype(np.uint8))"
      ],
      "id": "2eb6d1f0"
    },
    {
      "cell_type": "code",
      "execution_count": null,
      "metadata": {
        "id": "d782c30b"
      },
      "outputs": [],
      "source": [
        "#           Important     part  \n",
        "le = LabelEncoder()\n",
        "img_labels = le.fit_transform(df.emotion)\n",
        "img_labels = np_utils.to_categorical(img_labels)\n",
        "img_labels.shape"
      ],
      "id": "d782c30b"
    },
    {
      "cell_type": "code",
      "execution_count": null,
      "metadata": {
        "id": "32492dc4"
      },
      "outputs": [],
      "source": [
        "le_name_mapping = dict(zip(le.classes_, le.transform(le.classes_)))\n",
        "print(le_name_mapping)"
      ],
      "id": "32492dc4"
    },
    {
      "cell_type": "code",
      "execution_count": null,
      "metadata": {
        "id": "f13dbc94"
      },
      "outputs": [],
      "source": [
        "X_train, X_valid, y_train, y_valid = train_test_split(img_features, img_labels,\n",
        "                                                    shuffle=True, stratify=img_labels,\n",
        "                                                    test_size=0.1, random_state=42)\n",
        "X_train.shape, X_valid.shape, y_train.shape, y_valid.shape"
      ],
      "id": "f13dbc94"
    },
    {
      "cell_type": "code",
      "execution_count": null,
      "metadata": {
        "id": "b97c8012"
      },
      "outputs": [],
      "source": [
        "# del df\n",
        "# del img_features\n",
        "# del img_labels"
      ],
      "id": "b97c8012"
    },
    {
      "cell_type": "code",
      "execution_count": null,
      "metadata": {
        "id": "316c9e51"
      },
      "outputs": [],
      "source": [
        "img_width = X_train.shape[1]\n",
        "img_height = X_train.shape[2]\n",
        "img_depth = X_train.shape[3]\n",
        "num_classes = y_train.shape[1]"
      ],
      "id": "316c9e51"
    },
    {
      "cell_type": "code",
      "execution_count": null,
      "metadata": {
        "id": "8cfa3acc"
      },
      "outputs": [],
      "source": [
        "# num_classes\n",
        "# img_depth"
      ],
      "id": "8cfa3acc"
    },
    {
      "cell_type": "code",
      "execution_count": null,
      "metadata": {
        "id": "537620fa"
      },
      "outputs": [],
      "source": [
        "# Normalizing results, as neural networks are very sensitive to unnormalized data.\n",
        "X_train = X_train / 255.\n",
        "X_valid = X_valid / 255."
      ],
      "id": "537620fa"
    },
    {
      "cell_type": "code",
      "execution_count": null,
      "metadata": {
        "id": "7120303c"
      },
      "outputs": [],
      "source": [
        "# vgg = tf.keras.applications.VGG16(\n",
        "#     weights='imagenet',\n",
        "#     include_top=False,\n",
        "#     input_shape=(48, 48, 3)\n",
        "# )"
      ],
      "id": "7120303c"
    },
    {
      "cell_type": "code",
      "execution_count": null,
      "metadata": {
        "id": "4ade1819"
      },
      "outputs": [],
      "source": [
        "# vgg.summary()"
      ],
      "id": "4ade1819"
    },
    {
      "cell_type": "code",
      "source": [
        "# config\n",
        "input_shape = (48, 48, 3)\n",
        "output_class = 7"
      ],
      "metadata": {
        "id": "J_rvlcHSCuO-"
      },
      "id": "J_rvlcHSCuO-",
      "execution_count": null,
      "outputs": []
    },
    {
      "cell_type": "code",
      "execution_count": null,
      "metadata": {
        "id": "2c7c55ca"
      },
      "outputs": [],
      "source": [
        "from keras.models import Sequential \n",
        "from tensorflow.keras.layers import Conv2D, MaxPooling2D\n",
        "model = Sequential()\n",
        "# convulation layer\n",
        "model.add(Conv2D(128,kernel_size=(3,3),activation=\"relu\",input_shape=input_shape))\n",
        "model.add(MaxPooling2D(pool_size=(2,2)))\n",
        "model.add(Dropout(0.4))\n",
        "\n",
        "model.add(Conv2D(256,kernel_size=(3,3),activation=\"relu\"))\n",
        "model.add(MaxPooling2D(pool_size=(2,2)))\n",
        "model.add(Dropout(0.4))\n",
        "\n",
        "model.add(Conv2D(512,kernel_size=(3,3),activation=\"relu\"))\n",
        "model.add(MaxPooling2D(pool_size=(2,2)))\n",
        "model.add(Dropout(0.4))\n",
        "\n",
        "model.add(Conv2D(512,kernel_size=(3,3),activation=\"relu\"))\n",
        "model.add(MaxPooling2D(pool_size=(2,2)))\n",
        "model.add(Dropout(0.4))\n",
        "\n",
        "model.add(Flatten())\n",
        "# fully connected layers\n",
        "model.add(Dense(512, activation='relu'))\n",
        "model.add(Dropout(0.4))\n",
        "model.add(Dense(256, activation='relu'))\n",
        "model.add(Dropout(0.3))\n",
        "# output layer\n",
        "model.add(Dense(output_class, activation='softmax'))\n",
        "\n",
        "model.compile(optimizer='adam', loss='categorical_crossentropy', metrics='accuracy')"
      ],
      "id": "2c7c55ca"
    },
    {
      "cell_type": "code",
      "execution_count": null,
      "metadata": {
        "id": "528e252a"
      },
      "outputs": [],
      "source": [
        "# def build_model(bottom_model, classes):\n",
        "#     top_model = bottom_model.layers[-2].output\n",
        "# #     top_model = Dropout(0.5, name='dropout_1')(top_model)\n",
        "#     top_model = GlobalAveragePooling2D()(top_model)\n",
        "\n",
        "# #     top_model = Flatten(name='flatten')(top_model)\n",
        "# #     top_model = Dense(512, activation='relu', name='dense_1')(top_model)\n",
        "# #     top_model = BatchNormalization(name='batchnorm_1')(top_model)\n",
        "# #     top_model = Dropout(0.5, name='dropout_1')(top_model)\n",
        "    \n",
        "# #     top_model = Dense(512, activation='relu', name='dense_2')(top_model)\n",
        "# #     top_model = BatchNormalization(name='batchnorm_1')(top_model)\n",
        "# #     top_model = Dropout(0.5, name='dropout_2')(top_model)\n",
        "\n",
        "# #     top_model = Dense(64, activation='relu', name='dense_2')(top_model)\n",
        "#     top_model = Dense(classes, activation='softmax', name='out_layer')(top_model)\n",
        "    \n",
        "#     return top_model"
      ],
      "id": "528e252a"
    },
    {
      "cell_type": "code",
      "execution_count": null,
      "metadata": {
        "id": "06da97bb"
      },
      "outputs": [],
      "source": [
        "#  1 Model using VGG 16\n",
        "\n",
        "# FC_Head = build_model(vgg, num_classes)\n",
        "\n",
        "# model = Model(inputs = vgg.input, outputs = FC_Head)\n",
        "\n",
        "# print(model.summary())\n",
        "\n",
        "#   2 Model using detail\n",
        "\n",
        "print(model.summary())\n"
      ],
      "id": "06da97bb"
    },
    {
      "cell_type": "code",
      "execution_count": null,
      "metadata": {
        "id": "bff0b395"
      },
      "outputs": [],
      "source": [
        "early_stopping = EarlyStopping(\n",
        "    monitor='val_accuracy',\n",
        "    min_delta=0.00005,\n",
        "    patience=11,\n",
        "    verbose=1,\n",
        "    restore_best_weights=True,\n",
        ")\n",
        "\n",
        "lr_scheduler = ReduceLROnPlateau(\n",
        "    monitor='val_accuracy',\n",
        "    factor=0.5,\n",
        "    patience=7,\n",
        "    min_lr=1e-7,\n",
        "    verbose=1,\n",
        ")\n",
        "\n",
        "callbacks = [\n",
        "    early_stopping,\n",
        "    lr_scheduler,\n",
        "]"
      ],
      "id": "bff0b395"
    },
    {
      "cell_type": "code",
      "execution_count": null,
      "metadata": {
        "id": "d0e58442"
      },
      "outputs": [],
      "source": [
        "# As the data in hand is less as compared to the task so ImageDataGenerator is good to go.\n",
        "train_datagen = ImageDataGenerator(\n",
        "    rotation_range=15,\n",
        "    width_shift_range=0.15,\n",
        "    height_shift_range=0.15,\n",
        "    shear_range=0.15,\n",
        "    zoom_range=0.15,\n",
        "    horizontal_flip=True,\n",
        ")\n",
        "train_datagen.fit(X_train)"
      ],
      "id": "d0e58442"
    },
    {
      "cell_type": "code",
      "execution_count": null,
      "metadata": {
        "id": "aa1b197f"
      },
      "outputs": [],
      "source": [
        "batch_size = 32 #batch size of 32 performs the best.\n",
        "epochs = 25\n",
        "optims = [\n",
        "    optimizers.Nadam(learning_rate=0.001, beta_1=0.9, beta_2=0.999, epsilon=1e-07, name='Nadam'),\n",
        "    optimizers.Adam(lr=0.0001, beta_1=0.9, beta_2=0.999, epsilon=None, decay=0.0, amsgrad=False),\n",
        "]\n",
        "\n",
        "# I finally went with adam as it is more popular.\n",
        "model.compile(\n",
        "    loss='categorical_crossentropy',\n",
        "    optimizer=optims[1],\n",
        "    metrics=['accuracy']\n",
        ")"
      ],
      "id": "aa1b197f"
    },
    {
      "cell_type": "code",
      "execution_count": null,
      "metadata": {
        "id": "4327dfc8",
        "scrolled": true
      },
      "outputs": [],
      "source": [
        "# train the model\n",
        "# X_train, X_valid, y_train, y_valid\n",
        "history = model.fit(x=X_train, y=y_train, batch_size=128, epochs=100, validation_data=(X_valid, y_valid))"
      ],
      "id": "4327dfc8"
    },
    {
      "cell_type": "code",
      "execution_count": null,
      "metadata": {
        "id": "ec49cc56"
      },
      "outputs": [],
      "source": [],
      "id": "ec49cc56"
    },
    {
      "cell_type": "code",
      "execution_count": null,
      "metadata": {
        "id": "82c1cd79"
      },
      "outputs": [],
      "source": [
        "# model_yaml = model.to_yaml()\n",
        "# with open(\"model.yaml\", \"w\") as yaml_file:\n",
        "#     yaml_file.write(model_yaml)\n",
        "    \n",
        "model.save(\"model1_project.h5\")"
      ],
      "id": "82c1cd79"
    },
    {
      "cell_type": "code",
      "execution_count": null,
      "metadata": {
        "id": "94d9aff0"
      },
      "outputs": [],
      "source": [
        "sns.set()\n",
        "fig = pyplot.figure(0, (12, 4))\n",
        "\n",
        "ax = pyplot.subplot(1, 2, 1)\n",
        "sns.lineplot(history.epoch, history.history['accuracy'], label='train')\n",
        "sns.lineplot(history.epoch, history.history['val_accuracy'], label='valid')\n",
        "pyplot.title('Accuracy')\n",
        "pyplot.tight_layout()\n",
        "\n",
        "ax = pyplot.subplot(1, 2, 2)\n",
        "sns.lineplot(history.epoch, history.history['loss'], label='train')\n",
        "sns.lineplot(history.epoch, history.history['val_loss'], label='valid')\n",
        "pyplot.title('Loss')\n",
        "pyplot.tight_layout()\n",
        "\n",
        "pyplot.savefig('epoch_history_dcnn.png')\n",
        "pyplot.show()"
      ],
      "id": "94d9aff0"
    },
    {
      "cell_type": "code",
      "execution_count": null,
      "metadata": {
        "id": "be887881"
      },
      "outputs": [],
      "source": [
        "mapper = {\n",
        "    0: 'anger',\n",
        "    1: 'disgust',\n",
        "    2: 'fear',\n",
        "    3: 'happiness',\n",
        "    4: 'sadness',\n",
        "    5: 'surprise',\n",
        "    6: 'neutral'\n",
        "}\n",
        "np.random.seed(2)\n",
        "random_sad_imgs = np.random.choice(np.where(y_valid[:, 1]==1)[0], size=9)\n",
        "random_neutral_imgs = np.random.choice(np.where(y_valid[:, 2]==1)[0], size=9)\n",
        "\n",
        "fig = pyplot.figure(1, (18, 4))\n",
        "\n",
        "for i, (sadidx, neuidx) in enumerate(zip(random_sad_imgs, random_neutral_imgs)):\n",
        "        ax = pyplot.subplot(2, 9, i+1)\n",
        "        sample_img = X_valid[sadidx,:,:,0]\n",
        "        ax.imshow(sample_img, cmap='gray')\n",
        "        ax.set_xticks([])\n",
        "        ax.set_yticks([])\n",
        "        sample_img = cv2.cvtColor(sample_img, cv2.COLOR_GRAY2RGB)\n",
        "\n",
        "        ax.set_title(f\"true:sad, pred:{mapper[np.argmax(model.predict(sample_img.reshape(1,48,48,3))[0])]}\")\n",
        "\n",
        "        ax = pyplot.subplot(2, 9, i+10)\n",
        "        sample_img = X_valid[neuidx,:,:,0]\n",
        "        ax.imshow(sample_img, cmap='gray')\n",
        "        ax.set_xticks([])\n",
        "        ax.set_yticks([])\n",
        "        sample_img = cv2.cvtColor(sample_img, cv2.COLOR_GRAY2RGB)\n",
        "        \n",
        "        ax.set_title(f\"t:neut, p:{mapper[np.argmax(model.predict(sample_img.reshape(1,48,48,3))[0])]}\")\n",
        "\n",
        "        pyplot.tight_layout()\n"
      ],
      "id": "be887881"
    },
    {
      "cell_type": "code",
      "source": [
        "import scikitplot\n",
        "yhat_valid = np.argmax(model.predict(X_valid), axis=1)\n",
        "from scikitplot.estimators import plot_feature_importances\n",
        "from scikitplot.metrics import plot_confusion_matrix, plot_roc\n",
        "scikitplot.metrics.plot_confusion_matrix(np.argmax(y_valid, axis=1), yhat_valid, figsize=(7,7))\n",
        "pyplot.savefig(\"confusion_matrix_dcnn.png\")\n",
        "\n",
        "print(f'total wrong validation predictions: {np.sum(np.argmax(y_valid, axis=1) != yhat_valid)}\\n\\n')\n",
        "print(classification_report(np.argmax(y_valid, axis=1), yhat_valid))"
      ],
      "metadata": {
        "id": "lQTCV2Ww3Gv5"
      },
      "id": "lQTCV2Ww3Gv5",
      "execution_count": null,
      "outputs": []
    },
    {
      "cell_type": "code",
      "execution_count": null,
      "metadata": {
        "id": "ad9a10c5"
      },
      "outputs": [],
      "source": [
        "!pip install scikit-plot"
      ],
      "id": "ad9a10c5"
    },
    {
      "cell_type": "code",
      "source": [],
      "metadata": {
        "id": "4eV4j_Vo21Yy"
      },
      "id": "4eV4j_Vo21Yy",
      "execution_count": null,
      "outputs": []
    }
  ],
  "metadata": {
    "accelerator": "GPU",
    "colab": {
      "collapsed_sections": [],
      "private_outputs": true,
      "provenance": [],
      "include_colab_link": true
    },
    "gpuClass": "standard",
    "kernelspec": {
      "display_name": "Python 3 (ipykernel)",
      "language": "python",
      "name": "python3"
    },
    "language_info": {
      "codemirror_mode": {
        "name": "ipython",
        "version": 3
      },
      "file_extension": ".py",
      "mimetype": "text/x-python",
      "name": "python",
      "nbconvert_exporter": "python",
      "pygments_lexer": "ipython3",
      "version": "3.10.2"
    }
  },
  "nbformat": 4,
  "nbformat_minor": 5
}